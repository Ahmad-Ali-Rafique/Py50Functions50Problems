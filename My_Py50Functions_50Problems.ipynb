{
  "cells": [
    {
      "cell_type": "markdown",
      "metadata": {
        "id": "cBwnlIBBV4DF"
      },
      "source": [
        "# **In this notebook I create 50 python programs.**"
      ]
    },
    {
      "cell_type": "markdown",
      "metadata": {
        "id": "spKUhIkQXFXe"
      },
      "source": [
        "#### **1.** Area of a circle is calculated as follows: **area = π x r x r** and **perimeter = 2 x π x r**. Write a function that calculates **area_of_circle** and **perimeter_of_circle**."
      ]
    },
    {
      "cell_type": "code",
      "execution_count": null,
      "metadata": {
        "colab": {
          "base_uri": "https://localhost:8080/"
        },
        "id": "leFthWP5V3Ga",
        "outputId": "e5e84e9a-7882-4621-eb9e-ad4cd6fe2865"
      },
      "outputs": [
        {
          "output_type": "stream",
          "name": "stdout",
          "text": [
            "Enter the radius of the circle in centimeters :50\n",
            "The area of circle is 7850.0cm²\n",
            "The perimeter of the circle is 314.0cm\n"
          ]
        }
      ],
      "source": [
        "# Defining a function to find area and perimeter of circle\n",
        "def area_and_perimeter_of_circle():\n",
        "  try:\n",
        "    radius = float(input(\"Enter the radius of the circle in centimeters :\"))\n",
        "    area = 3.14*radius*radius\n",
        "    perimeter = 2*3.14*radius\n",
        "    print(f\"The area of circle is {round(area,2)}cm²\")\n",
        "    print(f\"The perimeter of the circle is {round(perimeter,2)}cm\")\n",
        "  except:\n",
        "    print(\"You enter wrong value\")\n",
        "# let's call the function\n",
        "area_and_perimeter_of_circle()\n"
      ]
    },
    {
      "cell_type": "markdown",
      "metadata": {
        "id": "7YkAclhpbch1"
      },
      "source": [
        "---\n",
        "#### **2.** Write a function called **add_all_nums** which takes arbitrary number of arguments and sums all the arguments. Check if all the list items are number types otherwise not give a reasonable feedback."
      ]
    },
    {
      "cell_type": "code",
      "execution_count": null,
      "metadata": {
        "colab": {
          "base_uri": "https://localhost:8080/"
        },
        "id": "7lNKgGquVxoj",
        "outputId": "619b910a-f5a9-4260-9dda-3c94d2d8f004"
      },
      "outputs": [
        {
          "output_type": "stream",
          "name": "stdout",
          "text": [
            "The sum of all munbers is :260\n"
          ]
        }
      ],
      "source": [
        "# defining a function that takes arbitrary number and give sum of arguments\n",
        "def add_all_nums(*args):\n",
        "  try:\n",
        "    number = 0\n",
        "    for num in args:\n",
        "      number+=num\n",
        "    return number\n",
        "  except:\n",
        "    print(\"Input are not Numbers\")\n",
        "# Let's call the funcion\n",
        "sum = add_all_nums(15,20,25,30,35,40,45,50)\n",
        "print(f\"The sum of all munbers is :{sum}\")\n"
      ]
    },
    {
      "cell_type": "markdown",
      "metadata": {
        "id": "zqzRw-zQvZ4d"
      },
      "source": [
        "---\n",
        "#### **3.** Temperature in **°C** can be converted to **°F** using this formula: **°F = (°C x 9/5) + 32**. Write a function which converts **°C to °F**, **convert celsius to fahrenheit**."
      ]
    },
    {
      "cell_type": "code",
      "execution_count": null,
      "metadata": {
        "id": "DnxuzGigvqLP",
        "colab": {
          "base_uri": "https://localhost:8080/"
        },
        "outputId": "e0267c14-8bef-4bd3-96f3-7abca9084cb9"
      },
      "outputs": [
        {
          "output_type": "stream",
          "name": "stdout",
          "text": [
            "Enter the value to convert celsius to fahrenheit :97\n",
            "The temperature in fahrenheit is : 206.6\n"
          ]
        }
      ],
      "source": [
        "# Defining a function to convert celsius to fahrenheit\n",
        "def celsius_to_fahrenheit():\n",
        "  try:\n",
        "    celsius = float(input(\"Enter the value to convert celsius to fahrenheit :\"))\n",
        "    fahrenheit = (celsius * 9)/5 +32\n",
        "    return fahrenheit\n",
        "  except:\n",
        "    print(\"Your input is incorrect. Please provide numerical values💁👌🎍😍\")\n",
        "# Call the function\n",
        "temperature = celsius_to_fahrenheit()\n",
        "print(f\"The temperature in fahrenheit is : {temperature}\")"
      ]
    },
    {
      "cell_type": "markdown",
      "metadata": {
        "id": "finRrOqjyPKs"
      },
      "source": [
        "#### **4.** Write a function called **check_season**, it takes a month parameter and returns the season: **Autumn, Winter, Spring or Summer**."
      ]
    },
    {
      "cell_type": "code",
      "execution_count": null,
      "metadata": {
        "colab": {
          "base_uri": "https://localhost:8080/"
        },
        "id": "2U8Re2GUxVwo",
        "outputId": "10478fcc-5bed-4cbc-cb7d-6843b1eb1e33"
      },
      "outputs": [
        {
          "output_type": "stream",
          "name": "stdout",
          "text": [
            " Enter month name to get season name :7\n",
            "This season is 'SUMMER' :\n"
          ]
        }
      ],
      "source": [
        "# Defining a function that takes month and provide season name\n",
        "def season_name(month_name):\n",
        "  if month_name in [\"november\", \"NOVEMBER\", \"11\", \"DECEMBER\", \"december\", \"12\", \"JANUARY\",  \"january\", \"1\"]:\n",
        "    print(\"This season is 'WINTER' :\")\n",
        "  elif month_name in [\"february\", \"FEBRUARY\", \"2\", \"MARCH\", \"march\", \"3\", \"APRIL\", \"april\", \"4\"]:\n",
        "    print(\"This season is 'AUTUMN' :\")\n",
        "  elif month_name in [\"MAY\", \"may\", \"5\", \"JUN\", \"jun\", \"6\", \"JULY\", \"july\", \"7\"]:\n",
        "    print(\"This season is 'SUMMER' :\")\n",
        "  elif month_name in [\"AUGEST\", \"augest\", \"8\", \"SEPTEMBER\", \"september\", \"9\", \"OCTOBER\", \"october\", \"10\"]:\n",
        "    print(\"This season is 'SPRING' :\")\n",
        "  else:\n",
        "    print(\"Unknown month name\")\n",
        "# Calling the function\n",
        "month_name = input(\" Enter month name to get season name :\")\n",
        "month = season_name(month_name)"
      ]
    },
    {
      "cell_type": "markdown",
      "metadata": {
        "id": "rsCGU4wV5Zxf"
      },
      "source": [
        "#### **5.** Declare a function named **print_list**. It takes a list as a parameter and it prints out each element of the list."
      ]
    },
    {
      "cell_type": "code",
      "execution_count": null,
      "metadata": {
        "colab": {
          "base_uri": "https://localhost:8080/"
        },
        "id": "9bOal_6d10hd",
        "outputId": "60faee86-7262-4b59-cafa-c5f3bcf172ce"
      },
      "outputs": [
        {
          "output_type": "stream",
          "name": "stdout",
          "text": [
            "Elements   HELLO\n",
            "Elements   1\n",
            "Elements   2\n",
            "Elements   3\n",
            "Elements   You can hear me\n",
            "Elements   Yes\n",
            "Elements     I LOVE YOU JANI\n",
            "Elements   💕⃝🕊️ 💕⃝🕊️🥀\n"
          ]
        }
      ],
      "source": [
        "# Defining a function to take list and print each element\n",
        "def print_list(input_list):\n",
        "  for elements in input_list:\n",
        "    print(\"Elements  \",elements)\n",
        "# Calling the function\n",
        "my_list = [\"HELLO\", 1,2,3, \"You can hear me\",\"Yes\", \"  I LOVE YOU JANI\",\"💕⃝🕊️ 💕⃝🕊️🥀\"]\n",
        "print_list(my_list)\n"
      ]
    },
    {
      "cell_type": "markdown",
      "metadata": {
        "id": "RVKOpbne8xfH"
      },
      "source": [
        "#### **6.** Declare a function named **capitalize_list_items**. It takes a list as a parameter and it returns a capitalized list of items"
      ]
    },
    {
      "cell_type": "code",
      "execution_count": null,
      "metadata": {
        "colab": {
          "base_uri": "https://localhost:8080/"
        },
        "id": "sZePqWu48sVD",
        "outputId": "2abb64e1-ac48-4bc7-8575-9e3afc10bfc2"
      },
      "outputs": [
        {
          "output_type": "stream",
          "name": "stdout",
          "text": [
            "Hello\n",
            "Jani\n",
            "Love you\n",
            "💕⃝🕊️ 💕⃝🕊️🥀\n"
          ]
        }
      ],
      "source": [
        "# Defining a function to capitalize the parameter\n",
        "def capitalize_list_items(input_list):\n",
        "  for items in input_list:\n",
        "    print(items.capitalize())\n",
        "# Calling the function\n",
        "my_list = [\"hello\", \"Jani\",\"love you\", \"💕⃝🕊️ 💕⃝🕊️🥀\"]\n",
        "capitalize_list_items(my_list)"
      ]
    },
    {
      "cell_type": "markdown",
      "metadata": {
        "id": "Y5nEeJixA7M5"
      },
      "source": [
        "#### **7.** Declare a function named **add_item**. It takes a list and an item parameters. It returns a list with the item added at the end."
      ]
    },
    {
      "cell_type": "code",
      "execution_count": null,
      "metadata": {
        "colab": {
          "base_uri": "https://localhost:8080/"
        },
        "id": "hVwviMUhA4h4",
        "outputId": "09750c0e-944f-457c-d06c-2e4213337406"
      },
      "outputs": [
        {
          "output_type": "stream",
          "name": "stdout",
          "text": [
            "original list : ['IF', 'YOU', 'WANT', 'TO', 'LOVE']\n",
            "New list : ['IF', 'YOU', 'WANT', 'TO', 'LOVE', 'CHOOSE A GIRL']\n"
          ]
        }
      ],
      "source": [
        "# Declare a function\n",
        "def add_items(old_list, items):\n",
        "  new_list = old_list[:]\n",
        "  new_list.append(items)\n",
        "  return new_list\n",
        "# Give list as original list\n",
        "my_list = [\"IF\",\"YOU\",\"WANT\",\"TO\",\"LOVE\"]\n",
        "new_item_to_add = \"CHOOSE A GIRL\"\n",
        "added_list = add_items(my_list, new_item_to_add)\n",
        "# print original and new list\n",
        "print(f\"original list : {my_list}\")\n",
        "print(f\"New list : {added_list}\")\n"
      ]
    },
    {
      "cell_type": "markdown",
      "metadata": {
        "id": "XJ3UjfRSJawf"
      },
      "source": [
        "#### **8.** Declare a function named **remove_item**. It takes a list and an item parameters. It returns a list with the item removed from it."
      ]
    },
    {
      "cell_type": "code",
      "execution_count": null,
      "metadata": {
        "colab": {
          "base_uri": "https://localhost:8080/"
        },
        "id": "ns1V5ootJYnc",
        "outputId": "74136451-2d5d-4b8f-99f4-3d97c6299393"
      },
      "outputs": [
        {
          "output_type": "stream",
          "name": "stdout",
          "text": [
            "['hello', 'how', 'are', '?']\n"
          ]
        }
      ],
      "source": [
        "# Defining a function that takes list and return with the item removed from it\n",
        "def remove_item(old_list, items):\n",
        "  new_list = old_list[:]\n",
        "  for item in items:\n",
        "      if item in new_list:\n",
        "          new_list.remove(item)\n",
        "  return new_list\n",
        "# Let's calling the function\n",
        "my_list = [\"hello\",\"hello\",\"brother\",\"how\",\"are\",\"you\",\"?\"]\n",
        "for_remove = [\"hello\",\"brother\",\"you\"]\n",
        "removed_list = remove_item(my_list, for_remove)\n",
        "print(removed_list)"
      ]
    },
    {
      "cell_type": "markdown",
      "metadata": {
        "id": "uP44WtgGgYF5"
      },
      "source": [
        "#### **9.** Declare a function named **sum_of_numbers**. It takes a number parameter and it adds all the numbers in that range."
      ]
    },
    {
      "cell_type": "code",
      "execution_count": null,
      "metadata": {
        "colab": {
          "base_uri": "https://localhost:8080/"
        },
        "id": "Z--_8QX7gX1N",
        "outputId": "ce49aa11-1373-484e-8eaf-7612b1d971bd"
      },
      "outputs": [
        {
          "output_type": "stream",
          "name": "stdout",
          "text": [
            "76\n",
            "2926\n"
          ]
        }
      ],
      "source": [
        "# Defining a function that takes parameters and add in that range\n",
        "def sum_of_numbers(number):\n",
        "    total_sum = 0\n",
        "    for num in range(number+1):\n",
        "      total_sum +=num\n",
        "    return total_sum\n",
        "# Let's call the function\n",
        "my_number = int(input())\n",
        "sum = sum_of_numbers(my_number)\n",
        "print(sum)"
      ]
    },
    {
      "cell_type": "markdown",
      "metadata": {
        "id": "xPaRgQCXjG-9"
      },
      "source": [
        "#### **10.** Declare a function named **sum_of_odds**. It takes a number parameter and it adds all the odd numbers in that range."
      ]
    },
    {
      "cell_type": "code",
      "execution_count": null,
      "metadata": {
        "colab": {
          "base_uri": "https://localhost:8080/"
        },
        "id": "qI4JNdHVhhGZ",
        "outputId": "3bd8535e-e6bb-43b6-e0b6-3d7020767845"
      },
      "outputs": [
        {
          "output_type": "stream",
          "name": "stdout",
          "text": [
            "The total sum of odds number is : 7740\n"
          ]
        }
      ],
      "source": [
        "# Defining a function\n",
        "def sum_of_odds(number):\n",
        "  total_sum =0\n",
        "  for num in number:\n",
        "    if num%2!=0:\n",
        "      total_sum+=num\n",
        "\n",
        "  return total_sum\n",
        "# Calling the function\n",
        "my_number = 4534,543,534,5,345,34,5,43,5345,34,5,34,534,5,34,5,34,5,43,54,5,43,5,345,34,543,5,435,34,5,34,534,5,34,534\n",
        "output = sum_of_odds(my_number)\n",
        "print(f\"The total sum of odds number is : {output}\")"
      ]
    },
    {
      "cell_type": "markdown",
      "metadata": {
        "id": "KvclUpLuy_lO"
      },
      "source": [
        "#### **11.** Declare a function named **sum_of_even**. It takes a number parameter and it adds all the even numbers in that range."
      ]
    },
    {
      "cell_type": "code",
      "execution_count": null,
      "metadata": {
        "colab": {
          "base_uri": "https://localhost:8080/"
        },
        "id": "7wj5pFM1zMq6",
        "outputId": "a580cc9f-35d2-4326-a54d-be5328ffb11b"
      },
      "outputs": [
        {
          "output_type": "stream",
          "name": "stdout",
          "text": [
            "Enter a list of numbers separated by commas: 676754\n",
            "676754\n"
          ]
        }
      ],
      "source": [
        "# Defining a function to sum of all even numbers\n",
        "def sum_of_even(number):\n",
        "  try:\n",
        "\n",
        "    total_num = 0\n",
        "    for items in number:\n",
        "      if items % 2 == 0:\n",
        "        total_num += items\n",
        "    return total_num\n",
        "  except ValueError:\n",
        "    print(\"Your input are not in numbers bro\")\n",
        "# Taking input from the user\n",
        "user_input = input(\"Enter a list of numbers separated by commas: \")\n",
        "\n",
        "# Converting the input string into a list of integers\n",
        "try:\n",
        "  my_numbers = [int(num) for num in user_input.split(\",\")]\n",
        "  output = sum_of_even(my_numbers)\n",
        "  print(output)\n",
        "except:\n",
        "  print(\"Your input are not in numbers bro\")\n"
      ]
    },
    {
      "cell_type": "markdown",
      "metadata": {
        "id": "ZsNVLuSN1eR3"
      },
      "source": [
        "#### **12.** Declare a function named **evens_and_odds**. It takes a positive integer as parameter and it counts number of evens and odds in the number."
      ]
    },
    {
      "cell_type": "code",
      "execution_count": null,
      "metadata": {
        "id": "XvkZLP0M1V17"
      },
      "outputs": [],
      "source": [
        "# Defining a function that takes positive parameter and return count of evens and odds in number\n",
        "def evens_and_odds(number):\n",
        "    odds_count = 0\n",
        "    evens_count = 0\n",
        "    for item in range(number +1):\n",
        "        if item % 2 == 0:\n",
        "            evens_count += 1\n",
        "        else:\n",
        "            odds_count += 1\n",
        "    return odds_count, evens_count\n",
        "# Let's call the function\n",
        "odds_count, evens_count = evens_and_odds(7)\n",
        "print(f\"evens are : {evens_count}\")\n",
        "print(f\"odds are : {odds_count}\")\n",
        "\n",
        "\n",
        "\n"
      ]
    },
    {
      "cell_type": "markdown",
      "metadata": {
        "id": "EAAqhRlB9JZS"
      },
      "source": [
        "#### **13.** Call your function **factorial**, it takes a whole number as a parameter and it return a factorial of the number."
      ]
    },
    {
      "cell_type": "code",
      "execution_count": null,
      "metadata": {
        "id": "gpD1mY0j9QB2"
      },
      "outputs": [],
      "source": [
        "def factorial(number):\n",
        "    if number == 0 or number == 1:\n",
        "        return 1\n",
        "    else:\n",
        "        return number * factorial(number - 1)\n",
        "\n",
        "# Let's try the factorial function\n",
        "num = int(input())\n",
        "result = factorial(num)\n",
        "print(f\"The factorial of {num} is\", result)"
      ]
    },
    {
      "cell_type": "markdown",
      "metadata": {
        "id": "-Hj0rRcK9bc7"
      },
      "source": [
        "#### **14.** Write a function **check_unique_item** which checks if all items are unique in the list."
      ]
    },
    {
      "cell_type": "code",
      "execution_count": null,
      "metadata": {
        "id": "eU-meGEQ9i_q"
      },
      "outputs": [],
      "source": [
        "# Defining function\n",
        "def check_unique_item(input_list):\n",
        "  if len(input_list) == len(set(input_list)):\n",
        "    return False\n",
        "  else:\n",
        "    return True\n",
        "# Let's calling the function\n",
        "my_list = list(input())\n",
        "output = check_unique_item(my_list)\n",
        "print(output)\n"
      ]
    },
    {
      "cell_type": "markdown",
      "metadata": {
        "id": "hTmSOwK39jer"
      },
      "source": [
        "#### **15.** Write a function **same_datatype** which checks if all the items of the list are of the same data type."
      ]
    },
    {
      "cell_type": "code",
      "execution_count": null,
      "metadata": {
        "colab": {
          "background_save": true,
          "base_uri": "https://localhost:8080/"
        },
        "id": "GxJMkjulGDIV",
        "outputId": "76295715-6ece-447f-8ba7-626274d11116"
      },
      "outputs": [
        {
          "name": "stdout",
          "output_type": "stream",
          "text": [
            "All items in the list have same data type!\n"
          ]
        }
      ],
      "source": [
        "def same_datatype(input_list):\n",
        "\n",
        "  if len(input_list) == 0:\n",
        "    print(\"The list is empty!\")\n",
        "\n",
        "  else:\n",
        "    data_type = type(input_list[0])\n",
        "\n",
        "    for item in input_list:\n",
        "      if type(item) != data_type:\n",
        "        print(\"Oops! The list contains items of mixed types.\")\n",
        "        return\n",
        "    print(\"All items in the list have same data type!\")\n",
        "\n",
        "# Let's check whether our function works or not\n",
        "my_list = [\"bus\", 15, \"bike\", 8.7, \"car\"]\n",
        "same_datatype(my_list)"
      ]
    },
    {
      "cell_type": "markdown",
      "source": [
        "###**16.**Write a program that prints the multiplication table of a given number using a for loop."
      ],
      "metadata": {
        "id": "fdpkI-f-5mmY"
      }
    },
    {
      "cell_type": "code",
      "source": [
        "# Defining a proram that print multiplication table\n",
        "def table(number):\n",
        "  print(f\"Multiplication Table of {number} is: \")\n",
        "  for num in range(1,11):\n",
        "    print(f\"{number} * {num} = {num*number}\")\n",
        "# now usage of function\n",
        "input = 6\n",
        "print_table = table(input)\n",
        "print(print_table)"
      ],
      "metadata": {
        "id": "s6IPo5XB5z2U"
      },
      "execution_count": null,
      "outputs": []
    },
    {
      "cell_type": "markdown",
      "source": [
        "###**17.**Write a program that prints all the even numbers from 1 to 100 using a while loop"
      ],
      "metadata": {
        "id": "hrGEypFa8xAW"
      }
    },
    {
      "cell_type": "code",
      "source": [
        "# Initiallize variable\n",
        "number = 0\n",
        "# Use while loop to itterate\n",
        "while number < 100:\n",
        "  if number % 2 == 0:\n",
        "# Print number\n",
        "    print(number)\n",
        "  number += 1"
      ],
      "metadata": {
        "id": "D32Zjgs08yD4"
      },
      "execution_count": null,
      "outputs": []
    },
    {
      "cell_type": "markdown",
      "source": [
        "###**18.**Write a function called \"greet_user\" that takes a user's name as an argument and prints a personalized greeting message"
      ],
      "metadata": {
        "id": "kMF1gND49226"
      }
    },
    {
      "cell_type": "code",
      "source": [
        "def greet_user(name):\n",
        "  print(f\"Hello bro {name}! I'm Ok and how are you ?\")\n",
        "name = \"ahmad\"\n",
        "greet_user(name)"
      ],
      "metadata": {
        "colab": {
          "base_uri": "https://localhost:8080/"
        },
        "id": "uH4ucyCz97_o",
        "outputId": "a9ad2b7a-29b4-4312-ac26-5f6b16a84028"
      },
      "execution_count": null,
      "outputs": [
        {
          "output_type": "stream",
          "name": "stdout",
          "text": [
            "Hello bro ahmad! I'm Ok and how are you ?\n"
          ]
        }
      ]
    },
    {
      "cell_type": "markdown",
      "source": [
        "###**19.**Write a function called \"is_even\" that takes a number as an argument and returns True if the number is even, and False otherwise."
      ],
      "metadata": {
        "id": "LzI4Wt9T_UXl"
      }
    },
    {
      "cell_type": "code",
      "source": [
        "# defining afunction that returns true if number is even\n",
        "def is_even(number):\n",
        "  if number % 2 == 0:\n",
        "    return True\n",
        "  else:\n",
        "    return False\n",
        "input = 6\n",
        "# usage of function\n",
        "is_even(input)"
      ],
      "metadata": {
        "colab": {
          "base_uri": "https://localhost:8080/"
        },
        "id": "kjMgUjCN_akN",
        "outputId": "a6cdf06a-2fcf-4719-bb14-a17149d41412"
      },
      "execution_count": null,
      "outputs": [
        {
          "output_type": "execute_result",
          "data": {
            "text/plain": [
              "True"
            ]
          },
          "metadata": {},
          "execution_count": 47
        }
      ]
    },
    {
      "cell_type": "markdown",
      "source": [
        "###**20.**Write a function called **calculate_sum** that takes a list of numbers as an argument and **returns the sum of those numbers.**"
      ],
      "metadata": {
        "id": "0AoKz74QrdaP"
      }
    },
    {
      "cell_type": "code",
      "source": [
        "# Defining a function thtat calculate the sum of numbers in list\n",
        "def calculate_sum(number):\n",
        "  total = 0\n",
        "  for num in number:\n",
        "    total = total + int(num)\n",
        "  return total\n",
        "my_number = input()\n",
        "numbers = my_number.split(',')\n",
        "sum = calculate_sum(numbers)\n",
        "print(sum)"
      ],
      "metadata": {
        "colab": {
          "base_uri": "https://localhost:8080/"
        },
        "id": "M2s3__WFchnP",
        "outputId": "e9eedc14-81b2-4e12-86bd-a676eb67d988"
      },
      "execution_count": null,
      "outputs": [
        {
          "output_type": "stream",
          "name": "stdout",
          "text": [
            "3534,5,345,2435,435,34,53,4534\n",
            "11375\n"
          ]
        }
      ]
    },
    {
      "cell_type": "markdown",
      "source": [
        "###**21.**Write a function called **remove_duplicates** that takes a list as an argument and **returns a new list with duplicate elements removed.**"
      ],
      "metadata": {
        "id": "O77NGHcwraQY"
      }
    },
    {
      "cell_type": "code",
      "source": [
        "# Defining a function that remove duplicates from given numbers\n",
        "def remove_duplicates(number):\n",
        "  total = []\n",
        "  for num in number:\n",
        "      if num not in total:\n",
        "        total.append(num)\n",
        "  return total\n",
        "my_input = input(\"Enter number separated by commass : \")\n",
        "numbers = my_input.split(',')\n",
        "remove = remove_duplicates(numbers)\n",
        "print('Numer after removing duplicates ',remove)"
      ],
      "metadata": {
        "colab": {
          "base_uri": "https://localhost:8080/"
        },
        "id": "lNKxHmrirw_I",
        "outputId": "92a88e8e-a214-476f-a922-a163361315f9"
      },
      "execution_count": null,
      "outputs": [
        {
          "output_type": "stream",
          "name": "stdout",
          "text": [
            "Enter number separated by commass : 3534,534,53,45,34,5,34,543,5,345,34,534,5,34,53,45,34,5,34,5\n",
            "Numer after removing duplicates  ['3534', '534', '53', '45', '34', '5', '543', '345']\n"
          ]
        }
      ]
    },
    {
      "cell_type": "markdown",
      "source": [
        "###**22.**Write a function called **find_max** that takes a list of numbers as an argument and **returns the largest number in the list**."
      ],
      "metadata": {
        "id": "3epsf5p2wyN-"
      }
    },
    {
      "cell_type": "code",
      "source": [
        "def find_max(numbers):\n",
        "    if not numbers:  # Check if the list is empty\n",
        "        return None  # If empty, return None\n",
        "\n",
        "    max_num = numbers[0]  # Assume the first number is the maximum\n",
        "\n",
        "    for num in numbers:\n",
        "        if num > max_num:\n",
        "            max_num = num  # Update max_num if a larger number is found\n",
        "\n",
        "    return max_num\n",
        "\n",
        "# Example usage:\n",
        "print(find_max([10, 5, 8, 20, 3]))  # Output: 20\n"
      ],
      "metadata": {
        "id": "fKM8HOLBzfne",
        "outputId": "903fb05f-122d-4a88-c2c6-a8f7191f7233",
        "colab": {
          "base_uri": "https://localhost:8080/"
        }
      },
      "execution_count": null,
      "outputs": [
        {
          "output_type": "stream",
          "name": "stdout",
          "text": [
            "20\n"
          ]
        }
      ]
    },
    {
      "cell_type": "markdown",
      "metadata": {
        "id": "cfzBxEuHiD1T"
      },
      "source": [
        "##**23. Caeser Cipher**(ENCRYPT)"
      ]
    },
    {
      "cell_type": "code",
      "execution_count": null,
      "metadata": {
        "colab": {
          "base_uri": "https://localhost:8080/"
        },
        "id": "9JmL4cKo2oNM",
        "outputId": "696a9af8-904f-4e77-c3e1-c30c5dbb2b3f"
      },
      "outputs": [
        {
          "output_type": "stream",
          "name": "stdout",
          "text": [
            "Enter your text to encrypt in caeser cipher : ahmad ali rafique\n",
            "DKPDGDOLUDILTXH\n"
          ]
        }
      ],
      "source": [
        "# Caeser cipher\n",
        "text = input(\"Enter your text to encrypt in caeser cipher : \")\n",
        "cipher = \"\"\n",
        "# for loop for iterate the value in text\n",
        "for char in text:\n",
        "  if not char.isalpha():\n",
        "    continue\n",
        "  char = char.upper()\n",
        "  code = ord(char) + 3\n",
        "  if code > ord(\"Z\"):\n",
        "    code = ord('A')\n",
        "# To convert in character\n",
        "  cipher +=chr(code)\n",
        "print(cipher)\n",
        "\n"
      ]
    },
    {
      "cell_type": "markdown",
      "metadata": {
        "id": "_yZHHAZQ5G0O"
      },
      "source": [
        "##**24. Caeser Cipher**(DECRYPT)"
      ]
    },
    {
      "cell_type": "code",
      "execution_count": null,
      "metadata": {
        "colab": {
          "base_uri": "https://localhost:8080/"
        },
        "id": "8CoOYc6T5kWj",
        "outputId": "463d454a-7b84-4efb-834b-df304a7100e1"
      },
      "outputs": [
        {
          "output_type": "stream",
          "name": "stdout",
          "text": [
            "Enter your encrypted code to decrypt :DKPDGDOLUDILTXH\n",
            "AHMADALIRAFIQUE\n"
          ]
        }
      ],
      "source": [
        "# Caeser cipher\n",
        "text = input('Enter your encrypted code to decrypt :')\n",
        "decrypt = ''\n",
        "# For loop to iterate the text in text\n",
        "for char in text:\n",
        "  if not char.isalpha():\n",
        "    continue\n",
        "  char = char.upper()\n",
        "  code = ord(char) - 3\n",
        "  if code < ord('A'):\n",
        "    code = ('Z')\n",
        "  decrypt += chr(code)\n",
        "# Print the decrypted code\n",
        "print(decrypt)\n",
        "\n"
      ]
    },
    {
      "cell_type": "markdown",
      "metadata": {
        "id": "pxIv9peF8CvF"
      },
      "source": [
        "### **25**. Program that takes numbers and provide **sum** of all numbers"
      ]
    },
    {
      "cell_type": "code",
      "execution_count": null,
      "metadata": {
        "colab": {
          "base_uri": "https://localhost:8080/"
        },
        "id": "eY6p7SoS7uv5",
        "outputId": "c064a6d1-c82d-4a36-ef2b-6e82994febe1"
      },
      "outputs": [
        {
          "output_type": "stream",
          "name": "stdout",
          "text": [
            " Enter the numbers you want to add separated by commas :23232,3,2,42,4,2,42\n",
            "23327\n"
          ]
        }
      ],
      "source": [
        "# Defining a function takes numbers and provide sum of all\n",
        "def sum_of_all(number) :\n",
        "  try:\n",
        "      addition = 0\n",
        "      for num in number:\n",
        "          addition += int(num)\n",
        "      return addition\n",
        "  except ValueError:\n",
        "    return False\n",
        "    # Let's calling the function\n",
        "my_number = input(\" Enter the numbers you want to add separated by commas :\")\n",
        "banana = my_number.split(\",\")\n",
        "ahmad= sum_of_all(banana)\n",
        "print(ahmad)\n",
        "\n"
      ]
    },
    {
      "cell_type": "markdown",
      "metadata": {
        "id": "EdcxaHbpBDeP"
      },
      "source": [
        "## **26. The IBAN Validator**"
      ]
    },
    {
      "cell_type": "code",
      "execution_count": null,
      "metadata": {
        "colab": {
          "base_uri": "https://localhost:8080/"
        },
        "id": "tObb1JNL-zsr",
        "outputId": "68cf82df-41da-4d71-d07f-8cbbe3e852ab"
      },
      "outputs": [
        {
          "output_type": "stream",
          "name": "stdout",
          "text": [
            "Enter IBAN, please: 73482742742947274\n",
            "IBAN entered is invalid.\n"
          ]
        }
      ],
      "source": [
        "# IBAN Validator.\n",
        "\n",
        "iban = input(\"Enter IBAN, please: \")\n",
        "iban = iban.replace(' ','')\n",
        "\n",
        "if not iban.isalnum():\n",
        "    print(\"You have entered invalid characters.\")\n",
        "elif len(iban) < 15:\n",
        "    print(\"IBAN entered is too short.\")\n",
        "elif len(iban) > 31:\n",
        "    print(\"IBAN entered is too long.\")\n",
        "else:\n",
        "    iban = (iban[4:] + iban[0:43]).upper()\n",
        "    iban2 = ''\n",
        "    for ch in iban:\n",
        "        if ch.isdigit():\n",
        "            iban2 += ch\n",
        "        else:\n",
        "            iban2 += str(10 + ord(ch) - ord('A'))\n",
        "    iban = int(iban2)\n",
        "    if iban % 97 == 1:\n",
        "        print(\"IBAN entered is valid.\")\n",
        "    else:\n",
        "        print(\"IBAN entered is invalid.\")\n"
      ]
    },
    {
      "cell_type": "markdown",
      "metadata": {
        "id": "MrHYODa-BZLZ"
      },
      "source": [
        "### **27.** Write a program that takes a **string as input and counts the number of vowels and consonants** in the string."
      ]
    },
    {
      "cell_type": "code",
      "execution_count": null,
      "metadata": {
        "id": "Jyt3O5nVBWre",
        "colab": {
          "base_uri": "https://localhost:8080/"
        },
        "outputId": "050d0b9c-d5b8-4c54-ec76-28192210de0b"
      },
      "outputs": [
        {
          "output_type": "stream",
          "name": "stdout",
          "text": [
            "Enter a string: kakanac dcjeofrerw\n",
            "The total vowels are: 6\n",
            "The total consonants are: 11\n"
          ]
        }
      ],
      "source": [
        "# Define a function that counts the number of vowels and consonants in a given string\n",
        "def vowels_and_consonants(string):\n",
        "    # Initialize counters for vowels and consonants\n",
        "    vowels = 0\n",
        "    consonants = 0\n",
        "\n",
        "    # Iterate through each character in the string\n",
        "    for ch in string:\n",
        "        # Check if the character is a vowel (case-insensitive)\n",
        "        if ch.lower() in [\"a\", \"e\", \"i\", \"o\", \"u\"]:\n",
        "            vowels += 1\n",
        "        # If the character is not a vowel and is a letter, count it as a consonant\n",
        "        elif ch.isalpha():\n",
        "            consonants += 1\n",
        "\n",
        "    # Return the counts of vowels and consonants\n",
        "    return vowels, consonants\n",
        "\n",
        "# Take input from the user\n",
        "my_input_string = input(\"Enter a string: \")e\n",
        "\n",
        "# Call the function to count vowels and consonants and unpack the result\n",
        "v_counts, c_counts = vowels_and_consonants(my_input_string)\n",
        "\n",
        "# Print the counts of vowels and consonants\n",
        "print(f\"The total vowels are: {v_counts}\")\n",
        "print(f\"The total consonants are: {c_counts}\")\n",
        "\n"
      ]
    },
    {
      "cell_type": "markdown",
      "source": [
        "## **28.**Write a Python program that accepts a filename from the user and **prints the extension of the file**"
      ],
      "metadata": {
        "id": "XwOIwSg42MSD"
      }
    },
    {
      "cell_type": "code",
      "source": [
        "# defining a function that accept a filename and print the extension of file\n",
        "def file_extension(file_name):\n",
        "# split the file name and extension\n",
        "  name, extension = file_name.split(\".\")\n",
        "  return extension\n",
        "# Let's calling the function\n",
        "my_file_name = input()\n",
        "output = file_extension(my_file_name)\n",
        "print(output)\n",
        "\n",
        "\n"
      ],
      "metadata": {
        "colab": {
          "base_uri": "https://localhost:8080/"
        },
        "id": "3kgv28Ix2ZSs",
        "outputId": "88c530e2-67fc-4328-c8b9-f0f91177588e"
      },
      "execution_count": null,
      "outputs": [
        {
          "output_type": "stream",
          "name": "stdout",
          "text": [
            "ahamd ali rafique.com\n",
            "com\n"
          ]
        }
      ]
    },
    {
      "cell_type": "markdown",
      "source": [
        "###**29.** Write a Python program to check if value 200 exists in the following dictionary.\n",
        "\n",
        "Sample_dict = {'a': 100, 'b': 200, 'c': 300}"
      ],
      "metadata": {
        "id": "jNvEzsiG4XLO"
      }
    },
    {
      "cell_type": "code",
      "source": [
        "Sample_dict = {'a': 100, 'b': 200, 'c': 300}\n",
        "if 200 in Sample_dict.values():\n",
        "  print(\"available\")\n",
        "else:\n",
        "  print(\"not available\")"
      ],
      "metadata": {
        "colab": {
          "base_uri": "https://localhost:8080/"
        },
        "id": "M3fLKMco4hh0",
        "outputId": "e3e2b55b-ba33-47a9-8735-95a038c08c35"
      },
      "execution_count": null,
      "outputs": [
        {
          "output_type": "stream",
          "name": "stdout",
          "text": [
            "available\n"
          ]
        }
      ]
    },
    {
      "cell_type": "markdown",
      "source": [
        "##**30.** The given tuple is a nested tuple. Write a Python program to print the value 20.\n",
        "tuple1 = (\"Orange\", [10, 20, 30], (5, 15, 25))"
      ],
      "metadata": {
        "id": "LXAtphM88BPA"
      }
    },
    {
      "cell_type": "code",
      "source": [
        "tuple1 = (\"Orange\", [10, 20, 30], (5, 15, 25))\n",
        "# Access the second number of the list from the second element of the tuple\n",
        "value_20 = tuple1[1][1]\n",
        "print(value_20)"
      ],
      "metadata": {
        "colab": {
          "base_uri": "https://localhost:8080/"
        },
        "id": "LZVy2eV-8Nsr",
        "outputId": "2bb43825-374e-4114-810a-bd0a5f29ebf6"
      },
      "execution_count": null,
      "outputs": [
        {
          "output_type": "stream",
          "name": "stdout",
          "text": [
            "20\n"
          ]
        }
      ]
    },
    {
      "cell_type": "markdown",
      "source": [
        "###**31.** Write a Python program that calculates the **Body Mass Index (BMI)** for a person based on their weight (in kilograms) and height (in meters). The BMI is calculated\n",
        "using the following formula:\n",
        "**BMI = (weight) / (height^2)**"
      ],
      "metadata": {
        "id": "uKIewoRN90O8"
      }
    },
    {
      "cell_type": "code",
      "source": [
        "def BMI(height, weight):\n",
        "    try:\n",
        "        # Ensure height is not zero to avoid division by zero error\n",
        "        if height == 0:\n",
        "            raise ValueError(\"Height cannot be zero\")\n",
        "\n",
        "        body_mass_index = weight / (height ** 2)\n",
        "        return body_mass_index\n",
        "    except ValueError:\n",
        "        print(\"Please enter valid numerical values for height and weight\")\n",
        "\n",
        "# Prompt the user for input\n",
        "height = float(input(\"Enter your height (in meters): \"))\n",
        "weight = float(input(\"Enter your weight (in kilograms): \"))\n",
        "\n",
        "# Calculate BMI\n",
        "total_bmi = BMI(height, weight)\n",
        "\n",
        "# Print the calculated BMI\n",
        "if total_bmi is not None:\n",
        "    print(f\"Your body mass index is: {total_bmi:.2f}\")\n",
        "\n",
        "# Interpretation according to BMI3\n",
        "if total_bmi < 18.5:\n",
        "    print(\"You are Underweight\")\n",
        "elif 18.5 <= total_bmi < 23:\n",
        "    print(\"You are Normal\")\n",
        "elif 25 <= total_bmi < 30:\n",
        "    print(\"You are Overweight\")\n",
        "else:\n",
        "    print(\"You are Obese\")\n"
      ],
      "metadata": {
        "colab": {
          "base_uri": "https://localhost:8080/"
        },
        "id": "j-RIcGfKaMcY",
        "outputId": "6200de1b-8de1-42b7-bf2d-405a66a2d841"
      },
      "execution_count": null,
      "outputs": [
        {
          "output_type": "stream",
          "name": "stdout",
          "text": [
            "Enter your height (in meters): 23\n",
            "Enter your weight (in kilograms): 35\n",
            "Your body mass index is: 0.07\n",
            "You are Underweight\n"
          ]
        }
      ]
    },
    {
      "cell_type": "markdown",
      "source": [
        "### **32.** Write a Python program that prompts the user to input a string. The program should **count the frequency of each character in the string** and then print the result as a dictionary."
      ],
      "metadata": {
        "id": "qwNjQsGnDJ_X"
      }
    },
    {
      "cell_type": "code",
      "source": [
        "def count_characters(string):\n",
        "    # Initialize an empty dictionary to store character frequencies\n",
        "    char_freq = {}\n",
        "\n",
        "    # Iterate through each character in the string\n",
        "    for char in string:\n",
        "        # Increment the count of the character in the dictionary\n",
        "        char_freq[char] = char_freq.get(char, 0) + 1\n",
        "\n",
        "    return char_freq\n",
        "\n",
        "# Prompt the user to input a string\n",
        "input_string = input(\"Enter a string: \")\n",
        "\n",
        "# Call the function to count character frequencies\n",
        "frequency_dict = count_characters(input_string)\n",
        "\n",
        "# Print the result as a dictionary\n",
        "print(\"Character frequencies:\")\n",
        "for char, freq in frequency_dict.items():\n",
        "      print(f\"'{char}': {freq}\")\n"
      ],
      "metadata": {
        "colab": {
          "base_uri": "https://localhost:8080/"
        },
        "id": "SZdDGJTFDo3N",
        "outputId": "2df6b366-ddf8-4295-af91-0e7759b0d7d6"
      },
      "execution_count": null,
      "outputs": [
        {
          "output_type": "stream",
          "name": "stdout",
          "text": [
            "Enter a string: ahamd\n",
            "Character frequencies:\n",
            "'a': 2\n",
            "'h': 1\n",
            "'m': 1\n",
            "'d': 1\n"
          ]
        }
      ]
    },
    {
      "cell_type": "markdown",
      "source": [
        "### **33.** Write a Python program that takes an email as input from the user and checks if it is a **valid email address**. If it is valid, print \"Valid email address\", otherwise print \"Invalid email address\"."
      ],
      "metadata": {
        "id": "6dT5D4CoKGFk"
      }
    },
    {
      "cell_type": "code",
      "source": [
        "# Defining a function that varify email is valid or not\n",
        "def varify_email(email):\n",
        "  if \"@\" not in email:\n",
        "    return False\n",
        "  base, extension = email.split(\"@\")\n",
        "  if extension.endswith(\".com\") or extension.endswith(\".net\"):\n",
        "    return True\n",
        "  else:\n",
        "    return False\n",
        "# Give input\n",
        "my_email =  input()\n",
        "output = varify_email(my_email)\n",
        "# Print the result\n",
        "if output:\n",
        "    print(\"It is a valid email\")\n",
        "else:\n",
        "    print(\"It is not a valid email\")"
      ],
      "metadata": {
        "colab": {
          "base_uri": "https://localhost:8080/"
        },
        "id": "Pm0afB4zKS8E",
        "outputId": "92bce586-3fb6-4d1b-c44c-ce4d7cb2f2e5"
      },
      "execution_count": null,
      "outputs": [
        {
          "output_type": "stream",
          "name": "stdout",
          "text": [
            "ars@gmail.com\n",
            "It is a valid email\n"
          ]
        }
      ]
    },
    {
      "cell_type": "markdown",
      "source": [
        "###**34.** Given a **tuple of tuples**, write a Python program to **print the sum of the elements** in each inner tuple."
      ],
      "metadata": {
        "id": "XbBSI0Lgarmp"
      }
    },
    {
      "cell_type": "code",
      "source": [
        "# Defining a function that sum of tuple of tuples\n",
        "def tuple_of_tuples(input_tuple):\n",
        "  result = []\n",
        "  for inner_tuple in input_tuple:\n",
        "    sum_of_inner_tuples = sum(inner_tuple)\n",
        "    result.append(sum_of_inner_tuples)\n",
        "  return result\n",
        "# Let's calling the function\n",
        "my_tuple = ((5,7,45),(456,45,67),(3,87,45))\n",
        "output = tuple_of_tuples(my_tuple)\n",
        "print(output)"
      ],
      "metadata": {
        "colab": {
          "base_uri": "https://localhost:8080/"
        },
        "id": "n2E1UTZra5qY",
        "outputId": "0bc6931e-0880-4bf8-f496-447040129f02"
      },
      "execution_count": null,
      "outputs": [
        {
          "output_type": "stream",
          "name": "stdout",
          "text": [
            "[57, 568, 135]\n"
          ]
        }
      ]
    },
    {
      "cell_type": "markdown",
      "source": [
        "###**35.** Create a list containing the **10 numbers** . Print the **first Three prime numbers** from the list."
      ],
      "metadata": {
        "id": "NiafaFy4dkEx"
      }
    },
    {
      "cell_type": "code",
      "source": [
        "# Function to check if a number is prime\n",
        "def is_prime(num):\n",
        "    if num < 2:\n",
        "        return False\n",
        "    for i in range(2, int(num ** 0.5) + 1):\n",
        "        if num % i == 0:\n",
        "            return False\n",
        "    return True\n",
        "\n",
        "# Create a list containing the first 10 numbers\n",
        "numbers = list(range(1, 11))\n",
        "\n",
        "# Print the first three prime numbers from the list\n",
        "prime_count = 0\n",
        "for num in numbers:\n",
        "    if is_prime(num):\n",
        "        print(num)\n",
        "        prime_count += 1\n",
        "    if prime_count == 3:\n",
        "        break\n",
        "\n"
      ],
      "metadata": {
        "id": "v0INsZPsN66T",
        "colab": {
          "base_uri": "https://localhost:8080/"
        },
        "outputId": "97a6a874-565c-439e-d8de-afa259586c96"
      },
      "execution_count": null,
      "outputs": [
        {
          "output_type": "stream",
          "name": "stdout",
          "text": [
            "2\n",
            "3\n",
            "5\n"
          ]
        }
      ]
    },
    {
      "cell_type": "markdown",
      "source": [
        "### **36.** Given a **list of dictionaries** representing students' information (name, age, grade), Write a Python program to **sort the students based on their grades in descending order** and print the sorted list.\n",
        "                Dictionary: [\n",
        "                              {\"name\": \"John\", \"age\": 20, \"grade\": 85},\n",
        "\n",
        "                              {\"name\": \"Alice\", \"age\": 22, \"grade\": 90},\n",
        "\n",
        "                              {\"name\": \"Bob\", \"age\": 21, \"grade\": 80}\n",
        "                             ]"
      ],
      "metadata": {
        "id": "wOtpVnSlo2_c"
      }
    },
    {
      "cell_type": "code",
      "source": [
        "Dictionary = [\n",
        "      {\"name\": \"John\", \"age\": 20, \"grade\": 85},\n",
        "      {\"name\": \"Alice\", \"age\": 22, \"grade\": 90},\n",
        "      {\"name\": \"Bob\", \"age\": 21, \"grade\": 80}\n",
        "  ]\n",
        "sorted_data = sorted(Dictionary, key = lambda x: x[\"grade\"], reverse = True)\n",
        "print(sorted_data)\n"
      ],
      "metadata": {
        "colab": {
          "base_uri": "https://localhost:8080/"
        },
        "id": "dZO8sCsgpKVY",
        "outputId": "ce278d7b-2657-4caa-fe59-0164e2ba5e10"
      },
      "execution_count": null,
      "outputs": [
        {
          "output_type": "stream",
          "name": "stdout",
          "text": [
            "[{'name': 'Alice', 'age': 22, 'grade': 90}, {'name': 'John', 'age': 20, 'grade': 85}, {'name': 'Bob', 'age': 21, 'grade': 80}]\n"
          ]
        }
      ]
    },
    {
      "cell_type": "markdown",
      "source": [
        "###**37.**Create a program that takes a **list of multiple numbers separated with commas** (,) from the user and **finds the total number of unique values in the list** and also prints them"
      ],
      "metadata": {
        "id": "bdAndVQhs6Ww"
      }
    },
    {
      "cell_type": "code",
      "source": [
        "# Definig a function that take list separated by commass and find unique numbers from it\n",
        "def unique_items(number):\n",
        "  unique_number = []\n",
        "# For loop to itterate value\n",
        "  for num in number:\n",
        "    if num not in unique_number:\n",
        "      unique_number.append(num)\n",
        "# Return statement\n",
        "  return unique_number\n",
        "# let's call the function\n",
        "my_list = list(range(1,11))\n",
        "output = unique_items(my_list)\n",
        "print(output)"
      ],
      "metadata": {
        "colab": {
          "base_uri": "https://localhost:8080/"
        },
        "id": "7tNJ41OXtNoC",
        "outputId": "2cc2e4b5-ce40-4277-8274-57885c79ab16"
      },
      "execution_count": null,
      "outputs": [
        {
          "output_type": "stream",
          "name": "stdout",
          "text": [
            "[1, 2, 3, 4, 5, 6, 7, 8, 9, 10]\n"
          ]
        }
      ]
    },
    {
      "cell_type": "markdown",
      "source": [
        "###**38.**Write a program that **takes two lists as input a\\nd returns a new list containing elements that are common to both lists**(Hint: Use list methods to implement this.)"
      ],
      "metadata": {
        "id": "2ifDe2mNwPaL"
      }
    },
    {
      "cell_type": "code",
      "source": [
        "# Defining a program that takes two list and return its common parameters\n",
        "def common_list_values(list1, list2):\n",
        "  common_value = []\n",
        "  for num in list1:\n",
        "    if num in list2:\n",
        "      common_value.append(num)\n",
        "  return common_value\n",
        "  # my input list to add\n",
        "my_list1 = list(range(20,31))\n",
        "my_list2 = list(range(25,36))\n",
        "# Calling the function\n",
        "common = common_list_values(my_list1, my_list2)\n",
        "print(common)\n",
        "\n"
      ],
      "metadata": {
        "colab": {
          "base_uri": "https://localhost:8080/"
        },
        "id": "PQbwBkUXwqr5",
        "outputId": "8ccd7414-bc98-4bd7-9b90-92b89d484d16"
      },
      "execution_count": null,
      "outputs": [
        {
          "output_type": "stream",
          "name": "stdout",
          "text": [
            "[25, 26, 27, 28, 29, 30]\n"
          ]
        }
      ]
    },
    {
      "cell_type": "markdown",
      "source": [
        "###**39.**Write a program that **takes two dictionaries as input and merges them into a new dictionary**. If there are common keys, combine their values"
      ],
      "metadata": {
        "id": "Sejg64hBzWi6"
      }
    },
    {
      "cell_type": "code",
      "source": [
        "def merge_dicts(dict1, dict2):\n",
        "    merged_dict = {}\n",
        "    # Merge values from dict1\n",
        "    for key, value in dict1.items():\n",
        "        merged_dict[key] = value\n",
        "    # Merge values from dict2\n",
        "    for key, value in dict2.items():\n",
        "        if key in merged_dict:\n",
        "            merged_dict[key] += value\n",
        "        else:\n",
        "            merged_dict[key] = value\n",
        "    return merged_dict\n",
        "\n",
        "dict1 = {'a': 5, 'b': 10, 'c': 15}\n",
        "dict2 = {'b': 20, 'c': 25, 'd': 30}\n",
        "\n",
        "merged = merge_dicts(dict1, dict2)\n",
        "print(merged)\n"
      ],
      "metadata": {
        "colab": {
          "base_uri": "https://localhost:8080/"
        },
        "id": "eS1KvK1wzkyn",
        "outputId": "c8c54c21-d1b5-4c92-cc54-607dbd7e8870"
      },
      "execution_count": null,
      "outputs": [
        {
          "output_type": "stream",
          "name": "stdout",
          "text": [
            "{'a': 5, 'b': 30, 'c': 40, 'd': 30}\n"
          ]
        }
      ]
    },
    {
      "cell_type": "markdown",
      "source": [
        "###**40.**Write a program that **takes two numbers,** **base and exponent,** and **calculates the result of raising base to the power** of exponent using the ** operator."
      ],
      "metadata": {
        "id": "4mbSHfIGkw_3"
      }
    },
    {
      "cell_type": "code",
      "source": [
        "# Defining a function takes base and exponent and calculate the result\n",
        "def power(base, exponent):\n",
        "  result = base**exponent\n",
        "# return value\n",
        "  return result\n",
        "base = int(input())\n",
        "exponent = int(input())\n",
        "# calling the function\n",
        "power = power(base, exponent)\n",
        "print(power)"
      ],
      "metadata": {
        "colab": {
          "base_uri": "https://localhost:8080/"
        },
        "id": "kxj5hjUbk8io",
        "outputId": "4ac77a75-1ccc-4a3b-ad42-d0a699f7b951"
      },
      "execution_count": null,
      "outputs": [
        {
          "output_type": "stream",
          "name": "stdout",
          "text": [
            "6\n",
            "3\n",
            "216\n"
          ]
        }
      ]
    },
    {
      "cell_type": "markdown",
      "source": [
        "###**41.**Write a program that **takes a temperature in Celsius as input and converts it to Fahrenheit using the formula.**"
      ],
      "metadata": {
        "id": "iMA2ecsnmlMm"
      }
    },
    {
      "cell_type": "code",
      "source": [
        "# Defining a function that convert temperature from celcius to fahrenheit\n",
        "def celcius_to_fahrenheit(celsius):\n",
        "  fahrenheit =  (celsius * 9/5) + 32\n",
        "  return fahrenheit\n",
        "# let' using the function\n",
        "temperature = 97\n",
        "result = celcius_to_fahrenheit(temperature)\n",
        "print(result)"
      ],
      "metadata": {
        "colab": {
          "base_uri": "https://localhost:8080/"
        },
        "id": "gcAF5Yrtm0Qw",
        "outputId": "48a0834c-0246-453d-fa45-2ec50899ce91"
      },
      "execution_count": null,
      "outputs": [
        {
          "output_type": "stream",
          "name": "stdout",
          "text": [
            "206.6\n"
          ]
        }
      ]
    },
    {
      "cell_type": "markdown",
      "source": [
        "###**42.**Write a Python program to **reverse a list without using built-in functions**."
      ],
      "metadata": {
        "id": "7_-YTDKxomiR"
      }
    },
    {
      "cell_type": "code",
      "source": [
        "def reverse_list(lst):\n",
        "    # Get the length of the list\n",
        "    length = len(lst)\n",
        "\n",
        "    # Iterate through half of the list\n",
        "    for i in range(length // 2):\n",
        "        # Swap elements from the beginning and end of the list\n",
        "        lst[i], lst[length - i - 1] = lst[length - i - 1], lst[i]\n",
        "\n",
        "    return lst\n",
        "\n",
        "# Example usage:\n",
        "my_list = [1, 2, 3, 4, 5]\n",
        "print(\"Original list:\", my_list)\n",
        "print(\"Reversed list:\", reverse_list(my_list))\n"
      ],
      "metadata": {
        "colab": {
          "base_uri": "https://localhost:8080/"
        },
        "id": "UVlGqPqWosaT",
        "outputId": "4a8e9210-097e-4056-8b9d-a332d26c05b5"
      },
      "execution_count": null,
      "outputs": [
        {
          "output_type": "stream",
          "name": "stdout",
          "text": [
            "Original list: [1, 2, 3, 4, 5]\n",
            "Reversed list: [5, 4, 3, 2, 1]\n"
          ]
        }
      ]
    },
    {
      "cell_type": "markdown",
      "source": [
        "###**43.**Given a string \"Hello World\", write a Python program to **reverse the string without reversing the individual words**."
      ],
      "metadata": {
        "id": "S5EVOOWqecnU"
      }
    },
    {
      "cell_type": "code",
      "source": [
        "# Definig a program that reverse the string\n",
        "def reverse_word(string):\n",
        "  word = string.split(\" \")  # Split the string into a list of words\n",
        "  reversed_word = word[::1]  # Reverse the order of words in the list\n",
        "  return \" \".join(reversed_word)  # Join the reversed words back into a string\n",
        "my_string = \"hello world\"\n",
        "output = reverse_word(my_string)\n",
        "print(output)"
      ],
      "metadata": {
        "colab": {
          "base_uri": "https://localhost:8080/"
        },
        "id": "SrTYwqgWemrv",
        "outputId": "76e2351c-b27d-403b-8afa-2964059d0c45"
      },
      "execution_count": null,
      "outputs": [
        {
          "output_type": "stream",
          "name": "stdout",
          "text": [
            "hello world\n"
          ]
        }
      ]
    },
    {
      "cell_type": "markdown",
      "source": [
        "###**44.**Implement a Python function **is_palindrome()** that checks whether **a passed string is a palindrome** (reads the same forward and backward) and tests it with \"radar\""
      ],
      "metadata": {
        "id": "GyVvIe5CiGij"
      }
    },
    {
      "cell_type": "code",
      "source": [
        "def is_palindrome(word):\n",
        "  # Clean the word by converting to lowercase and removing non-alphanumeric characters\n",
        "  palindrom_word = \"\".join(a for a in word.lower() if a.isalnum() )\n",
        "  return palindrom_word == palindrom_word[::-1]  # Check if reversed word equals original\n",
        "\n",
        "my_word = input()\n",
        "output = is_palindrome(my_word)\n",
        "print(output)\n"
      ],
      "metadata": {
        "colab": {
          "base_uri": "https://localhost:8080/"
        },
        "id": "r62T8Vepjvp4",
        "outputId": "16917d1a-9e81-4dc9-b7ce-b254b2ec7c77"
      },
      "execution_count": null,
      "outputs": [
        {
          "output_type": "stream",
          "name": "stdout",
          "text": [
            "palindrom\n",
            "False\n"
          ]
        }
      ]
    },
    {
      "cell_type": "markdown",
      "source": [
        "###**45.**Write a program that **returns a list of even numbers** from a given list.\n",
        "Input: [2, 5, 3, 7, 9, 53, 10, 32, 65, 76, 98]"
      ],
      "metadata": {
        "id": "XdAzz49Al90E"
      }
    },
    {
      "cell_type": "code",
      "source": [
        "# defining a function that returns a list of even numbers\n",
        "def even_num(number):\n",
        "  even_num = []\n",
        "# for loop to itterate value\n",
        "  for num in number:\n",
        "    if num % 2 == 0:\n",
        "      even_num.append(num)\n",
        "# return statement\n",
        "  return even_num\n",
        "input = [2, 5, 3, 7, 9, 53, 10, 32, 65, 76, 98]\n",
        "# Let's call the function\n",
        "even_numbers = even_num(input)\n",
        "# print results\n",
        "print(even_numbers)"
      ],
      "metadata": {
        "colab": {
          "base_uri": "https://localhost:8080/"
        },
        "id": "uOLZsVdFmKjv",
        "outputId": "0b23be28-695c-4e77-f93a-7e933c210789"
      },
      "execution_count": null,
      "outputs": [
        {
          "output_type": "stream",
          "name": "stdout",
          "text": [
            "[2, 10, 32, 76, 98]\n"
          ]
        }
      ]
    },
    {
      "cell_type": "markdown",
      "source": [
        "###**46.**Given two lists keys = ['a', 'b', 'c'] and values = [1, 2, 3], write a Python program to **create a dictionary from these lists**."
      ],
      "metadata": {
        "id": "Mc3f0JOKqh4O"
      }
    },
    {
      "cell_type": "code",
      "source": [
        "keys = ['a', 'b', 'c']\n",
        "values = [1, 2, 3]\n",
        "\n",
        "# Create a dictionary using zip and dict\n",
        "my_dict = dict(zip(keys, values))\n",
        "\n",
        "# Print the dictionary\n",
        "print(my_dict)\n"
      ],
      "metadata": {
        "id": "HfeiGLyXscGw"
      },
      "execution_count": null,
      "outputs": []
    },
    {
      "cell_type": "markdown",
      "source": [
        "###**47.** ANAGRAM (Listen Silent)"
      ],
      "metadata": {
        "id": "n83pQOsYG204"
      }
    },
    {
      "cell_type": "code",
      "source": [
        "str_1 = input(\"Write your first string :\")\n",
        "str_2 = input(\"Write your second string :\")\n",
        "strx_1 = ''.join(sorted(list(str_1.lower().replace(\" \",\"\"))))\n",
        "strx_2 = ''.join(sorted(list(str_2.lower().replace(\" \",\"\"))))\n",
        "if len(strx_1)> 0 and strx_1 == strx_2:\n",
        "  print(\"It's Anagram'\")\n",
        "else:\n",
        "  print(\"it's not Anagram\")"
      ],
      "metadata": {
        "colab": {
          "base_uri": "https://localhost:8080/"
        },
        "id": "wOIDJPaHHFLU",
        "outputId": "46656c5a-9b46-4ca6-f9f4-46145f718a74"
      },
      "execution_count": null,
      "outputs": [
        {
          "output_type": "stream",
          "name": "stdout",
          "text": [
            "Write your first string :ahmad\n",
            "Write your second string :hamad\n",
            "It's Anagram'\n"
          ]
        }
      ]
    },
    {
      "cell_type": "markdown",
      "source": [
        "###**48.**DIGIT OF LIFE"
      ],
      "metadata": {
        "id": "SJ5QautWSGsm"
      }
    },
    {
      "cell_type": "code",
      "source": [
        "date = input(\"Enter your birthday date (in the following format: YYYYMMDD or YYYYDDMM, 8 digits): \")\n",
        "if len(date) != 8 or not date.isdigit():\n",
        "    print(\"Invalid date format.\")\n",
        "else:\n",
        "    while len(date) > 1:\n",
        "        the_sum = 0\n",
        "        for dig in date:\n",
        "            the_sum += int(dig)\n",
        "        print(date)\n",
        "        date = str(the_sum)\n",
        "    print(\"Your Digit of Life is: \" + date)\n"
      ],
      "metadata": {
        "colab": {
          "base_uri": "https://localhost:8080/"
        },
        "id": "x03y-IlySNfo",
        "outputId": "161fe7c2-b717-454f-ef74-94f0decfb808"
      },
      "execution_count": null,
      "outputs": [
        {
          "output_type": "stream",
          "name": "stdout",
          "text": [
            "Enter your birthday date (in the following format: YYYYMMDD or YYYYDDMM, 8 digits): 20041012\n",
            "20041012\n",
            "10\n",
            "Your Digit of Life is: 1\n"
          ]
        }
      ]
    },
    {
      "cell_type": "markdown",
      "source": [
        "###**49.**Find a word!"
      ],
      "metadata": {
        "id": "OSFUpqe5TTq1"
      }
    },
    {
      "cell_type": "code",
      "source": [
        "word = input(\"Enter the word you wish to find: \").upper()\n",
        "strn = input(\"Enter the string you wish to search through: \").upper()\n",
        "\n",
        "found = True\n",
        "start = 0\n",
        "\n",
        "for ch in word:\n",
        "\tpos = strn.find(ch, start)\n",
        "\tif pos < 0:\n",
        "\t\tfound = False\n",
        "\t\tbreak\n",
        "\tstart = pos + 1\n",
        "if found:\n",
        "\tprint(\"Yes\")\n",
        "else:\n",
        "\tprint(\"No\")\n"
      ],
      "metadata": {
        "colab": {
          "base_uri": "https://localhost:8080/"
        },
        "id": "v8x_QxnBTYjs",
        "outputId": "983316ab-77fb-4e8c-9863-f506a0f19aee"
      },
      "execution_count": null,
      "outputs": [
        {
          "output_type": "stream",
          "name": "stdout",
          "text": [
            "Enter the word you wish to find: donor\n",
            "Enter the string you wish to search through: Nabucodonosor\n",
            "Yes\n"
          ]
        }
      ]
    },
    {
      "cell_type": "markdown",
      "source": [
        "###**50.**Sudoku"
      ],
      "metadata": {
        "id": "O9Z7JMZpUHJs"
      }
    },
    {
      "cell_type": "code",
      "source": [
        "# A function that checks whether a list passed as an argument contains\n",
        "# nine digits from '1' to '9'.\n",
        "def checkset(digs):\n",
        "    return sorted(list(digs)) == [chr(x + ord('0')) for x in range(1, 10)]\n",
        "\n",
        "\n",
        "# A list of rows representing the sudoku.\n",
        "rows = [ ]\n",
        "for r in range(9):\n",
        "    ok = False\n",
        "    while not ok:\n",
        "        row = input(\"Enter row #\" + str(r + 1) + \": \")\n",
        "        ok = len(row) == 9 or row.isdigit()\n",
        "        if not ok:\n",
        "            print(\"Incorrect row data - 9 digits required\")\n",
        "    rows.append(row)\n",
        "\n",
        "ok = True\n",
        "\n",
        "# Check if all rows are good.\n",
        "for r in range(9):\n",
        "    if not checkset(rows[r]):\n",
        "        ok = False\n",
        "        break\n",
        "\n",
        "# Check if all columns are good.\n",
        "if ok:\n",
        "    for c in range(9):\n",
        "        col = []\n",
        "        for r in range(9):\n",
        "            col.append(rows[r][c])\n",
        "        if not checkset(col):\n",
        "            ok = False\n",
        "            break\n",
        "\n",
        "# Check if all sub-squares (3x3) are good.\n",
        "if ok:\n",
        "    for r in range(0, 9, 3):\n",
        "        for c in range(0, 9, 3):\n",
        "            sqr = ''\n",
        "            # Make a string containing all digits from a sub-square.\n",
        "            for i in range(3):\n",
        "                sqr += rows[r+i][c:c+3]\n",
        "            if not checkset(list(sqr)):\n",
        "                ok = False\n",
        "                break\n",
        "\n",
        "# Print the final verdict.\n",
        "if ok:\n",
        "    print(\"Yes\")\n",
        "else:\n",
        "    print(\"No\")\n"
      ],
      "metadata": {
        "colab": {
          "base_uri": "https://localhost:8080/"
        },
        "id": "VjDOnCBNUM0j",
        "outputId": "fe4d2b52-8615-448a-88a4-34738fe6322c"
      },
      "execution_count": null,
      "outputs": [
        {
          "output_type": "stream",
          "name": "stdout",
          "text": [
            "Enter row #1: 295743861\n",
            "Enter row #2: 431865927\n",
            "Enter row #3: 876192543\n",
            "Enter row #4: 387459216\n",
            "Enter row #5: 612387495\n",
            "Enter row #6: 549216738\n",
            "Enter row #7: 763524189\n",
            "Enter row #8: 928671354\n",
            "Enter row #9: 154938672\n",
            "Yes\n"
          ]
        }
      ]
    }
  ],
  "metadata": {
    "colab": {
      "provenance": []
    },
    "kernelspec": {
      "display_name": "Python 3",
      "name": "python3"
    },
    "language_info": {
      "name": "python"
    }
  },
  "nbformat": 4,
  "nbformat_minor": 0
}